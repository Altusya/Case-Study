{
  "nbformat": 4,
  "nbformat_minor": 0,
  "metadata": {
    "colab": {
      "provenance": [],
      "include_colab_link": true
    },
    "kernelspec": {
      "name": "python3",
      "display_name": "Python 3"
    },
    "language_info": {
      "name": "python"
    }
  },
  "cells": [
    {
      "cell_type": "markdown",
      "metadata": {
        "id": "view-in-github",
        "colab_type": "text"
      },
      "source": [
        "<a href=\"https://colab.research.google.com/github/Altusya/Case-Study/blob/main/4)_NN.ipynb\" target=\"_parent\"><img src=\"https://colab.research.google.com/assets/colab-badge.svg\" alt=\"Open In Colab\"/></a>"
      ]
    },
    {
      "cell_type": "code",
      "execution_count": 3,
      "metadata": {
        "colab": {
          "base_uri": "https://localhost:8080/"
        },
        "id": "Db3kxOykpd72",
        "outputId": "64c41330-ee64-48a6-c75e-5949551dfc7c"
      },
      "outputs": [
        {
          "output_type": "stream",
          "name": "stdout",
          "text": [
            "full data:  (45211, 31)\n",
            "   client_id  age         job  marital education  account_id in_default  \\\n",
            "0    1000583   43  management  married  tertiary       19298         no   \n",
            "\n",
            "   balance housing loan   contact  campaign_id  day month  duration  campaign  \\\n",
            "0   -127.0      no   no  cellular        19298    6   aug       400         2   \n",
            "\n",
            "   pdays  previous poutcome        y age_cat  age_log balance_cat  balance_pt  \\\n",
            "0     -1         0  unknown  unknown   36-45   3.7612    negative    -0.71255   \n",
            "\n",
            "  duration_cat  duration_log pdays_cat  pdays_pt previous_cat  previous_pt  \\\n",
            "0      300-700      5.991465     never -0.472533        never      -0.4725   \n",
            "\n",
            "   season  \n",
            "0       2  \n",
            "known data:  (4521, 31)\n"
          ]
        }
      ],
      "source": [
        "import pandas as pd\n",
        "import numpy as np\n",
        "import matplotlib.pyplot as plt\n",
        "from sklearn.model_selection import train_test_split\n",
        "from sklearn.linear_model import LogisticRegression\n",
        "from sklearn.ensemble import RandomForestClassifier\n",
        "from sklearn.metrics import accuracy_score, classification_report, confusion_matrix\n",
        "from sklearn.model_selection import cross_val_score, cross_val_predict, KFold, StratifiedKFold, LeaveOneOut\n",
        "from sklearn.preprocessing import OneHotEncoder\n",
        "from imblearn.under_sampling import RandomUnderSampler\n",
        "\n",
        "url = \"https://raw.githubusercontent.com/Altusya/Case-Study/main/data_new.csv\"\n",
        "data = pd.read_csv(url)\n",
        "print(\"full data: \", data.shape)\n",
        "pd.set_option(\"display.max_columns\", None)\n",
        "print(data.head(1))\n",
        "known = data[data['y'] != \"unknown\"]\n",
        "print(\"known data: \", known.shape)"
      ]
    },
    {
      "cell_type": "code",
      "source": [
        "# Scenario 1: basic features\n",
        "num_features = [\"age\", \"balance\", \"duration\", \"pdays\", \"previous\"]\n",
        "cat_features = [\"job\", \"marital\", \"education\", \"in_default\", \"housing\", \"loan\", \"month\", \"campaign\", \"poutcome\"]\n",
        "\n",
        "'''\n",
        "# Scenario 2: log/power transformed num features\n",
        "num_features = [\"age_log\", \"balance_pt\", \"duration_log\", \"pdays_pt\", \"previous_pt\"]\n",
        "cat_features = [\"job\", \"marital\", \"education\", \"in_default\", \"housing\", \"loan\", \"month\", \"campaign\", \"poutcome\"]\n",
        "\n",
        "# Scenario 3: num features to cat, month to season\n",
        "num_features = []\n",
        "cat_features = [\"age_cat\", \"balance_cat\", \"duration_cat\", \"pdays_cat\", \"previous_cat\",\n",
        "                  \"job\", \"marital\", \"education\", \"in_default\", \"housing\", \"loan\", \"season\", \"campaign\", \"poutcome\"]'''\n",
        "print()"
      ],
      "metadata": {
        "id": "c_6fq3XiixQp",
        "colab": {
          "base_uri": "https://localhost:8080/"
        },
        "outputId": "0361774b-a6f3-42b1-c802-c2e2341539eb"
      },
      "execution_count": 7,
      "outputs": [
        {
          "output_type": "stream",
          "name": "stdout",
          "text": [
            "\n"
          ]
        }
      ]
    },
    {
      "cell_type": "code",
      "source": [
        "# CREATING X AND Y MATRICES\n",
        "num_features = [\"age\", \"balance\", \"duration\", \"pdays\", \"previous\"]\n",
        "cat_features = [\"job\", \"marital\", \"education\", \"in_default\", \"housing\", \"loan\", \"month\", \"campaign\", \"poutcome\"]\n",
        "\n",
        "X_num = known[num_features].values\n",
        "ohe = OneHotEncoder(drop=\"first\")\n",
        "X_result = ohe.fit_transform(known[cat_features])\n",
        "X_cat = X_result.toarray()\n",
        "X_array = np.hstack((X_num, X_cat))\n",
        "X_df = pd.DataFrame(columns=ohe.get_feature_names_out(cat_features))\n",
        "\n",
        "y_array = known[\"y\"].apply(lambda x: 1 if x == 'yes' else 0).values # To create a NumPy array from a pandas Series, you can use the .values attribute.\n",
        "\n",
        "\n",
        "print(X_array.shape)\n",
        "print(X_array)\n",
        "print(y_array.shape)\n",
        "print(y_array)"
      ],
      "metadata": {
        "colab": {
          "base_uri": "https://localhost:8080/"
        },
        "id": "N3v7-y5puDW1",
        "outputId": "96572bfb-ac61-4bde-de28-cb62ea8d4110"
      },
      "execution_count": 8,
      "outputs": [
        {
          "output_type": "stream",
          "name": "stdout",
          "text": [
            "(4521, 69)\n",
            "[[ 4.800e+01  5.543e+03  1.430e+02 ...  0.000e+00  0.000e+00  1.000e+00]\n",
            " [ 4.600e+01 -2.160e+02  4.040e+02 ...  0.000e+00  0.000e+00  1.000e+00]\n",
            " [ 3.600e+01  3.343e+03  3.070e+02 ...  0.000e+00  0.000e+00  1.000e+00]\n",
            " ...\n",
            " [ 3.300e+01  3.975e+03  5.150e+02 ...  1.000e+00  0.000e+00  0.000e+00]\n",
            " [ 4.300e+01  3.600e+01  1.180e+02 ...  0.000e+00  0.000e+00  0.000e+00]\n",
            " [ 4.900e+01  5.100e+01  9.840e+02 ...  0.000e+00  0.000e+00  1.000e+00]]\n",
            "(4521,)\n",
            "[0 0 0 ... 0 0 0]\n"
          ]
        }
      ]
    },
    {
      "cell_type": "code",
      "source": [
        "X_num"
      ],
      "metadata": {
        "colab": {
          "base_uri": "https://localhost:8080/"
        },
        "id": "TybEuMIddNsx",
        "outputId": "0a43bdc3-aff8-4896-da2f-5c08f46ab49e"
      },
      "execution_count": 28,
      "outputs": [
        {
          "output_type": "execute_result",
          "data": {
            "text/plain": [
              "array([[ 4.800e+01,  5.543e+03,  1.430e+02, -1.000e+00,  0.000e+00],\n",
              "       [ 4.600e+01, -2.160e+02,  4.040e+02, -1.000e+00,  0.000e+00],\n",
              "       [ 3.600e+01,  3.343e+03,  3.070e+02, -1.000e+00,  0.000e+00],\n",
              "       ...,\n",
              "       [ 3.300e+01,  3.975e+03,  5.150e+02,  1.500e+02,  1.000e+00],\n",
              "       [ 4.300e+01,  3.600e+01,  1.180e+02,  1.020e+02,  2.000e+00],\n",
              "       [ 4.900e+01,  5.100e+01,  9.840e+02, -1.000e+00,  0.000e+00]])"
            ]
          },
          "metadata": {},
          "execution_count": 28
        }
      ]
    },
    {
      "cell_type": "code",
      "source": [
        "sampler = RandomUnderSampler(sampling_strategy='auto', random_state=5)\n",
        "X_resampled, y_resampled = sampler.fit_resample(X_array, y_array)\n"
      ],
      "metadata": {
        "id": "6yjJHMIlLqn2"
      },
      "execution_count": 9,
      "outputs": []
    },
    {
      "cell_type": "code",
      "source": [
        "#NN perceptron on resampled data\n",
        "\n",
        "import numpy as np\n",
        "from sklearn.datasets import load_iris\n",
        "from sklearn.linear_model import Perceptron\n",
        "from sklearn.model_selection import train_test_split\n",
        "from sklearn.metrics import classification_report\n",
        "\n",
        "# Split the dataset into training and testing sets\n",
        "X_train, X_test, y_train, y_test = train_test_split(X_resampled, y_resampled, test_size=0.4, random_state=1)\n",
        "\n",
        "# Define a Perceptron model, with a maximum of 10 epochs\n",
        "perceptron = Perceptron(max_iter=10)\n",
        "\n",
        "# Fit the model on the training data\n",
        "perceptron.fit(X_train, y_train)\n",
        "\n",
        "# Make predictions on the test set and print the results\n",
        "y_pred = perceptron.predict(X_test)\n",
        "print(y_pred)\n",
        "print(classification_report(y_test, y_pred))\n",
        "\n",
        "conf_matrix = confusion_matrix(y_test, y_pred)\n",
        "\n",
        "# Plotting the confusion matrix\n",
        "fig, ax = plt.subplots(figsize=(5, 5))\n",
        "ax.matshow(conf_matrix, cmap=plt.cm.Blues, alpha=0.3)\n",
        "for i in range(conf_matrix.shape[0]):\n",
        "    for j in range(conf_matrix.shape[1]):\n",
        "        ax.text(x=j, y=i, s=conf_matrix[i, j], va='center', ha='center', size='x-large')\n",
        "\n",
        "plt.xlabel('Predictions', fontsize=18)\n",
        "plt.ylabel('Actuals', fontsize=18)\n",
        "plt.title('Confusion Matrix', fontsize=18)\n",
        "plt.show()\n"
      ],
      "metadata": {
        "id": "wwX5ZCWW9Lxe",
        "colab": {
          "base_uri": "https://localhost:8080/",
          "height": 926
        },
        "outputId": "4a5104b7-6008-4c5d-c1d5-df76936aeeff"
      },
      "execution_count": 19,
      "outputs": [
        {
          "output_type": "stream",
          "name": "stderr",
          "text": [
            "/usr/local/lib/python3.10/dist-packages/sklearn/linear_model/_stochastic_gradient.py:702: ConvergenceWarning: Maximum number of iteration reached before convergence. Consider increasing max_iter to improve the fit.\n",
            "  warnings.warn(\n"
          ]
        },
        {
          "output_type": "stream",
          "name": "stdout",
          "text": [
            "[0 0 0 1 0 0 0 0 1 0 1 1 1 0 0 0 1 1 0 0 1 0 1 1 0 1 0 0 0 0 0 0 1 0 0 0 1\n",
            " 1 1 1 0 0 0 0 0 1 0 1 0 0 1 0 0 1 1 0 0 0 0 0 0 0 0 1 0 0 0 0 1 0 0 0 0 0\n",
            " 1 0 0 0 0 0 0 0 0 0 0 1 0 0 0 0 0 0 1 1 1 0 0 0 0 0 1 0 1 0 0 0 0 0 0 1 0\n",
            " 0 1 0 1 1 0 0 0 0 0 0 1 0 0 0 0 0 0 0 0 0 1 0 1 1 0 0 1 0 0 0 0 0 1 0 0 1\n",
            " 0 1 1 0 0 0 1 1 0 0 0 0 0 0 0 1 0 0 0 0 0 0 0 0 1 1 0 0 0 1 0 1 0 1 0 0 0\n",
            " 0 1 0 0 0 0 0 1 1 1 0 1 0 1 0 0 1 0 0 0 0 0 0 0 0 1 0 0 0 0 0 0 1 0 0 0 1\n",
            " 0 1 1 0 0 0 1 0 1 1 0 0 0 0 1 0 1 0 1 1 1 0 0 1 1 0 0 0 1 1 1 0 0 1 0 0 0\n",
            " 0 0 0 0 0 1 0 1 0 0 0 1 1 0 0 0 0 0 0 1 0 1 0 0 1 1 0 1 0 1 1 0 0 0 1 0 1\n",
            " 0 0 0 0 0 1 0 1 1 0 0 0 0 0 0 0 0 0 0 0 1 0 0 1 0 0 0 1 1 0 0 0 0 0 1 0 0\n",
            " 0 0 0 0 1 0 1 1 0 0 1 0 0 1 1 0 1 0 1 1 0 0 0 1 0 0 1 0 0 0 1 0 0 0 0 0 0\n",
            " 0 1 1 1 1 0 1 0 0 0 0 0 1 0 0 0 1 0 0 0 1 0 0 0 1 1 0 0 0 0 0 0 0 1 0 0 1\n",
            " 0 0 1 1 0 0 0 1 0 0]\n",
            "              precision    recall  f1-score   support\n",
            "\n",
            "           0       0.61      0.84      0.71       212\n",
            "           1       0.73      0.44      0.55       205\n",
            "\n",
            "    accuracy                           0.65       417\n",
            "   macro avg       0.67      0.64      0.63       417\n",
            "weighted avg       0.67      0.65      0.63       417\n",
            "\n"
          ]
        },
        {
          "output_type": "display_data",
          "data": {
            "text/plain": [
              "<Figure size 500x500 with 1 Axes>"
            ],
            "image/png": "[encoded data removed]"
          },
          "metadata": {}
        }
      ]
    },
    {
      "cell_type": "code",
      "source": [
        "#Gradient boositng on resampled data\n",
        "\n",
        "import numpy as np\n",
        "from sklearn.datasets import make_classification\n",
        "from sklearn.model_selection import train_test_split\n",
        "from sklearn.ensemble import RandomForestClassifier, AdaBoostClassifier\n",
        "from sklearn.tree import DecisionTreeClassifier\n",
        "from sklearn.metrics import classification_report, accuracy_score\n",
        "\n",
        "# Split the data into training and testing sets\n",
        "X_train, X_test, y_train, y_test = train_test_split(X_resampled, y_resampled, test_size=0.4, random_state=1)\n",
        "\n",
        "# Create a Random Forest classifier\n",
        "rf_classifier = RandomForestClassifier(random_state=42) #initialize\n",
        "\n",
        "# Create an AdaBoost classifier with Decision Trees as base estimator\n",
        "base_tree = DecisionTreeClassifier(max_depth=3, random_state=42)\n",
        "adaboost_classifier = AdaBoostClassifier(base_tree, n_estimators=50, random_state=42)\n",
        "\n",
        "# Fit and evaluate the Random Forest model\n",
        "rf_classifier.fit(X_train, y_train)\n",
        "rf_pred = rf_classifier.predict(X_test)  #predict X_test\n",
        "\n",
        "print(\"Random Forest Classifier:\")\n",
        "print(f\"Accuracy: {accuracy_score(y_test, rf_pred):.2f}\")\n",
        "print(classification_report(y_test, rf_pred))\n",
        "\n",
        "# Plotting the confusion matrix\n",
        "conf_matrix = confusion_matrix(y_test, y_pred)\n",
        "\n",
        "fig, ax = plt.subplots(figsize=(5, 5))\n",
        "ax.matshow(conf_matrix, cmap=plt.cm.Blues, alpha=0.3)\n",
        "for i in range(conf_matrix.shape[0]):\n",
        "    for j in range(conf_matrix.shape[1]):\n",
        "        ax.text(x=j, y=i, s=conf_matrix[i, j], va='center', ha='center', size='x-large')\n",
        "\n",
        "plt.xlabel('Predictions', fontsize=18)\n",
        "plt.ylabel('Actuals', fontsize=18)\n",
        "plt.title('Confusion Matrix', fontsize=18)\n",
        "plt.show()\n",
        "\n",
        "# Fit and evaluate the AdaBoost model\n",
        "adaboost_classifier.fit(X_train, y_train)\n",
        "adaboost_pred = adaboost_classifier.predict(X_test)\n",
        "\n",
        "print(\"\\nAdaBoost Classifier:\")\n",
        "print(f\"Accuracy: {accuracy_score(y_test, adaboost_pred):.2f}\")\n",
        "print(classification_report(y_test, adaboost_pred))\n",
        "\n",
        "# Plotting the confusion matrix\n",
        "conf_matrix = confusion_matrix(y_test, y_pred)\n",
        "\n",
        "fig, ax = plt.subplots(figsize=(5, 5))\n",
        "ax.matshow(conf_matrix, cmap=plt.cm.Blues, alpha=0.3)\n",
        "for i in range(conf_matrix.shape[0]):\n",
        "    for j in range(conf_matrix.shape[1]):\n",
        "        ax.text(x=j, y=i, s=conf_matrix[i, j], va='center', ha='center', size='x-large')\n",
        "\n",
        "plt.xlabel('Predictions', fontsize=18)\n",
        "plt.ylabel('Actuals', fontsize=18)\n",
        "plt.title('Confusion Matrix', fontsize=18)\n",
        "plt.show()\n"
      ],
      "metadata": {
        "colab": {
          "base_uri": "https://localhost:8080/",
          "height": 1000
        },
        "id": "HqzDAz9YLkOs",
        "outputId": "f34798be-5571-4ca0-a473-e5f872f0c8b6"
      },
      "execution_count": 20,
      "outputs": [
        {
          "output_type": "stream",
          "name": "stdout",
          "text": [
            "Random Forest Classifier:\n",
            "Accuracy: 0.85\n",
            "              precision    recall  f1-score   support\n",
            "\n",
            "           0       0.87      0.82      0.84       212\n",
            "           1       0.82      0.87      0.85       205\n",
            "\n",
            "    accuracy                           0.85       417\n",
            "   macro avg       0.85      0.85      0.85       417\n",
            "weighted avg       0.85      0.85      0.85       417\n",
            "\n"
          ]
        },
        {
          "output_type": "display_data",
          "data": {
            "text/plain": [
              "<Figure size 500x500 with 1 Axes>"
            ],
            "image/png": "[encoded data removed]"
          },
          "metadata": {}
        },
        {
          "output_type": "stream",
          "name": "stdout",
          "text": [
            "\n",
            "AdaBoost Classifier:\n",
            "Accuracy: 0.76\n",
            "              precision    recall  f1-score   support\n",
            "\n",
            "           0       0.77      0.76      0.76       212\n",
            "           1       0.75      0.77      0.76       205\n",
            "\n",
            "    accuracy                           0.76       417\n",
            "   macro avg       0.76      0.76      0.76       417\n",
            "weighted avg       0.76      0.76      0.76       417\n",
            "\n"
          ]
        },
        {
          "output_type": "display_data",
          "data": {
            "text/plain": [
              "<Figure size 500x500 with 1 Axes>"
            ],
            "image/png": "[encoded data removed]"
          },
          "metadata": {}
        }
      ]
    },
    {
      "cell_type": "code",
      "source": [
        "#Multi-Layer Perceptron (MLP)\n",
        "import pandas as pd\n",
        "from sklearn.model_selection import train_test_split\n",
        "from sklearn.preprocessing import StandardScaler\n",
        "from sklearn.neural_network import MLPClassifier\n",
        "from sklearn.metrics import classification_report, confusion_matrix\n",
        "import seaborn as sns\n",
        "\n",
        "# Split data into training and testing sets\n",
        "X_train, X_test, y_train, y_test = train_test_split(X_resampled, y_resampled, test_size=0.4, random_state=1)\n",
        "\n",
        "# Standardize features by removing the mean and scaling to unit variance\n",
        "'''scaler = StandardScaler()\n",
        "X_train_scaled = scaler.fit_transform(X_train)\n",
        "X_test_scaled = scaler.transform(X_test)'''\n",
        "\n",
        "# Initialize MLPClassifier\n",
        "mlp = MLPClassifier(hidden_layer_sizes=(50, 50), max_iter=1000, random_state=42)\n",
        "\n",
        "# Train the model\n",
        "mlp.fit(X_train, y_train)\n",
        "\n",
        "# Predictions\n",
        "y_pred = mlp.predict(X_test)\n",
        "\n",
        "# Evaluate the model\n",
        "print(\"Confusion Matrix:\")\n",
        "print(confusion_matrix(y_test, y_pred))\n",
        "print(\"\\nClassification Report:\")\n",
        "print(classification_report(y_test, y_pred))\n",
        "\n",
        "cm = confusion_matrix(y_test, y_pred)\n",
        "\n",
        "# Plot confusion matrix\n",
        "plt.figure(figsize=(8, 6))\n",
        "sns.heatmap(cm, annot=True, fmt='d', cmap='Blues', cbar=False)\n",
        "plt.xlabel('Predicted labels')\n",
        "plt.ylabel('True labels')\n",
        "plt.title('Confusion Matrix')\n",
        "plt.show()\n"
      ],
      "metadata": {
        "colab": {
          "base_uri": "https://localhost:8080/",
          "height": 807
        },
        "id": "ItQ3e0PRQXFO",
        "outputId": "5bd40d0d-b73d-45c2-fdfd-49b10f16b03a"
      },
      "execution_count": 27,
      "outputs": [
        {
          "output_type": "stream",
          "name": "stdout",
          "text": [
            "Confusion Matrix:\n",
            "[[140  72]\n",
            " [ 48 157]]\n",
            "\n",
            "Classification Report:\n",
            "              precision    recall  f1-score   support\n",
            "\n",
            "           0       0.74      0.66      0.70       212\n",
            "           1       0.69      0.77      0.72       205\n",
            "\n",
            "    accuracy                           0.71       417\n",
            "   macro avg       0.72      0.71      0.71       417\n",
            "weighted avg       0.72      0.71      0.71       417\n",
            "\n"
          ]
        },
        {
          "output_type": "display_data",
          "data": {
            "text/plain": [
              "<Figure size 800x600 with 1 Axes>"
            ],
            "image/png": "[encoded data removed]"
          },
          "metadata": {}
        }
      ]
    },
    {
      "cell_type": "code",
      "source": [
        "#Backpropagation\n",
        "import pandas as pd\n",
        "import numpy as np\n",
        "from sklearn.model_selection import train_test_split\n",
        "from sklearn.preprocessing import StandardScaler, OneHotEncoder\n",
        "from sklearn.compose import ColumnTransformer\n",
        "from tensorflow.keras.models import Sequential\n",
        "from tensorflow.keras.layers import Dense\n",
        "from tensorflow.keras.optimizers import Adam\n",
        "\n",
        "# Split data into training and testing sets\n",
        "X_train, X_test, y_train, y_test = train_test_split(X_resampled, y_resampled, test_size=0.4, random_state=42)\n",
        "\n",
        "# Build a simple neural network\n",
        "model = Sequential()\n",
        "model.add(Dense(50, input_dim=X_train.shape[1], activation='relu'))\n",
        "model.add(Dense(50, activation='relu'))\n",
        "model.add(Dense(1, activation='sigmoid'))  # Output layer for binary classification\n",
        "\n",
        "# Compile the model\n",
        "model.compile(optimizer=Adam(learning_rate=0.001), loss='binary_crossentropy', metrics=['accuracy'])\n",
        "\n",
        "# Train the model using backpropagation\n",
        "model.fit(X_train, y_train, epochs=100, batch_size=10, validation_split=0.2)\n",
        "\n",
        "\n",
        "# Evaluate the model\n",
        "loss, accuracy = model.evaluate(X_test, y_test)\n",
        "print(f'Accuracy: {accuracy*100:.2f}%')\n",
        "\n",
        "# Predictions\n",
        "y_pred = (model.predict(X_test) > 0.5).astype(\"int32\")\n",
        "\n",
        "# Generate confusion matrix\n",
        "from sklearn.metrics import confusion_matrix\n",
        "import seaborn as sns\n",
        "import matplotlib.pyplot as plt\n",
        "\n",
        "cm = confusion_matrix(y_test, y_pred)\n",
        "sns.heatmap(cm, annot=True, fmt='d', cmap='Blues', cbar=False)\n",
        "plt.xlabel('Predicted labels')\n",
        "plt.ylabel('True labels')\n",
        "plt.title('Confusion Matrix')\n",
        "plt.show()\n",
        "\n",
        "# Generate classification report\n",
        "print(classification_report(y_test, y_pred, target_names=['No', 'Yes']))\n"
      ],
      "metadata": {
        "colab": {
          "base_uri": "https://localhost:8080/",
          "height": 1000
        },
        "id": "tOQlRg4lcjQR",
        "outputId": "32b3d19d-bc73-4288-ca1e-063ac3520308"
      },
      "execution_count": 38,
      "outputs": [
        {
          "output_type": "stream",
          "name": "stdout",
          "text": [
            "Epoch 1/100\n",
            "50/50 [==============================] - 2s 16ms/step - loss: 30.8296 - accuracy: 0.5300 - val_loss: 6.6798 - val_accuracy: 0.4720\n",
            "Epoch 2/100\n",
            "50/50 [==============================] - 0s 4ms/step - loss: 6.1298 - accuracy: 0.5580 - val_loss: 2.9209 - val_accuracy: 0.5840\n",
            "Epoch 3/100\n",
            "50/50 [==============================] - 0s 3ms/step - loss: 2.0230 - accuracy: 0.6520 - val_loss: 2.7102 - val_accuracy: 0.6240\n",
            "Epoch 4/100\n",
            "50/50 [==============================] - 0s 2ms/step - loss: 3.0879 - accuracy: 0.6600 - val_loss: 10.9102 - val_accuracy: 0.5840\n",
            "Epoch 5/100\n",
            "50/50 [==============================] - 0s 3ms/step - loss: 8.0722 - accuracy: 0.5900 - val_loss: 2.8769 - val_accuracy: 0.5760\n",
            "Epoch 6/100\n",
            "50/50 [==============================] - 0s 4ms/step - loss: 4.6802 - accuracy: 0.6580 - val_loss: 2.5273 - val_accuracy: 0.7200\n",
            "Epoch 7/100\n",
            "50/50 [==============================] - 0s 3ms/step - loss: 2.7781 - accuracy: 0.6980 - val_loss: 2.9317 - val_accuracy: 0.6720\n",
            "Epoch 8/100\n",
            "50/50 [==============================] - 0s 3ms/step - loss: 2.0690 - accuracy: 0.7080 - val_loss: 2.8164 - val_accuracy: 0.5360\n",
            "Epoch 9/100\n",
            "50/50 [==============================] - 0s 3ms/step - loss: 2.6754 - accuracy: 0.6880 - val_loss: 1.9369 - val_accuracy: 0.6160\n",
            "Epoch 10/100\n",
            "50/50 [==============================] - 0s 3ms/step - loss: 2.4086 - accuracy: 0.6660 - val_loss: 1.4717 - val_accuracy: 0.7920\n",
            "Epoch 11/100\n",
            "50/50 [==============================] - 0s 3ms/step - loss: 2.0300 - accuracy: 0.7000 - val_loss: 2.5932 - val_accuracy: 0.6960\n",
            "Epoch 12/100\n",
            "50/50 [==============================] - 0s 3ms/step - loss: 3.1508 - accuracy: 0.6660 - val_loss: 6.0459 - val_accuracy: 0.6880\n",
            "Epoch 13/100\n",
            "50/50 [==============================] - 0s 4ms/step - loss: 3.1100 - accuracy: 0.7040 - val_loss: 0.7567 - val_accuracy: 0.7040\n",
            "Epoch 14/100\n",
            "50/50 [==============================] - 0s 4ms/step - loss: 2.5731 - accuracy: 0.6900 - val_loss: 1.4490 - val_accuracy: 0.6800\n",
            "Epoch 15/100\n",
            "50/50 [==============================] - 0s 4ms/step - loss: 5.5760 - accuracy: 0.6380 - val_loss: 3.8588 - val_accuracy: 0.6960\n",
            "Epoch 16/100\n",
            "50/50 [==============================] - 0s 4ms/step - loss: 3.2345 - accuracy: 0.7100 - val_loss: 1.4772 - val_accuracy: 0.6240\n",
            "Epoch 17/100\n",
            "50/50 [==============================] - 0s 4ms/step - loss: 2.6385 - accuracy: 0.6880 - val_loss: 1.1445 - val_accuracy: 0.7520\n",
            "Epoch 18/100\n",
            "50/50 [==============================] - 0s 5ms/step - loss: 2.5271 - accuracy: 0.6880 - val_loss: 5.6588 - val_accuracy: 0.6000\n",
            "Epoch 19/100\n",
            "50/50 [==============================] - 0s 4ms/step - loss: 2.4790 - accuracy: 0.7160 - val_loss: 1.9774 - val_accuracy: 0.6880\n",
            "Epoch 20/100\n",
            "50/50 [==============================] - 0s 4ms/step - loss: 1.8812 - accuracy: 0.7260 - val_loss: 0.7567 - val_accuracy: 0.8000\n",
            "Epoch 21/100\n",
            "50/50 [==============================] - 0s 5ms/step - loss: 1.2551 - accuracy: 0.7540 - val_loss: 0.8053 - val_accuracy: 0.7600\n",
            "Epoch 22/100\n",
            "50/50 [==============================] - 0s 6ms/step - loss: 1.0969 - accuracy: 0.7560 - val_loss: 2.0334 - val_accuracy: 0.6880\n",
            "Epoch 23/100\n",
            "50/50 [==============================] - 0s 4ms/step - loss: 2.8733 - accuracy: 0.6920 - val_loss: 1.8476 - val_accuracy: 0.7280\n",
            "Epoch 24/100\n",
            "50/50 [==============================] - 0s 4ms/step - loss: 3.0991 - accuracy: 0.6940 - val_loss: 1.9904 - val_accuracy: 0.6640\n",
            "Epoch 25/100\n",
            "50/50 [==============================] - 0s 4ms/step - loss: 2.1600 - accuracy: 0.7280 - val_loss: 6.4122 - val_accuracy: 0.6560\n",
            "Epoch 26/100\n",
            "50/50 [==============================] - 0s 5ms/step - loss: 4.8419 - accuracy: 0.6660 - val_loss: 1.4676 - val_accuracy: 0.7120\n",
            "Epoch 27/100\n",
            "50/50 [==============================] - 0s 6ms/step - loss: 3.2599 - accuracy: 0.7000 - val_loss: 4.1866 - val_accuracy: 0.5920\n",
            "Epoch 28/100\n",
            "50/50 [==============================] - 0s 5ms/step - loss: 3.0984 - accuracy: 0.6700 - val_loss: 1.3083 - val_accuracy: 0.6400\n",
            "Epoch 29/100\n",
            "50/50 [==============================] - 0s 4ms/step - loss: 1.5291 - accuracy: 0.7540 - val_loss: 0.9776 - val_accuracy: 0.7680\n",
            "Epoch 30/100\n",
            "50/50 [==============================] - 0s 4ms/step - loss: 0.9346 - accuracy: 0.7480 - val_loss: 0.9426 - val_accuracy: 0.7280\n",
            "Epoch 31/100\n",
            "50/50 [==============================] - 0s 5ms/step - loss: 1.5557 - accuracy: 0.7480 - val_loss: 1.2021 - val_accuracy: 0.6160\n",
            "Epoch 32/100\n",
            "50/50 [==============================] - 0s 4ms/step - loss: 1.6037 - accuracy: 0.7080 - val_loss: 1.1789 - val_accuracy: 0.7520\n",
            "Epoch 33/100\n",
            "50/50 [==============================] - 0s 5ms/step - loss: 1.5507 - accuracy: 0.7320 - val_loss: 1.1309 - val_accuracy: 0.7600\n",
            "Epoch 34/100\n",
            "50/50 [==============================] - 0s 5ms/step - loss: 1.4429 - accuracy: 0.7360 - val_loss: 3.0004 - val_accuracy: 0.6880\n",
            "Epoch 35/100\n",
            "50/50 [==============================] - 0s 4ms/step - loss: 2.6739 - accuracy: 0.7180 - val_loss: 1.5492 - val_accuracy: 0.6800\n",
            "Epoch 36/100\n",
            "50/50 [==============================] - 0s 4ms/step - loss: 2.0963 - accuracy: 0.7040 - val_loss: 0.7465 - val_accuracy: 0.8000\n",
            "Epoch 37/100\n",
            "50/50 [==============================] - 0s 4ms/step - loss: 2.2002 - accuracy: 0.7020 - val_loss: 1.3245 - val_accuracy: 0.7600\n",
            "Epoch 38/100\n",
            "50/50 [==============================] - 0s 4ms/step - loss: 1.5870 - accuracy: 0.7200 - val_loss: 1.5425 - val_accuracy: 0.7040\n",
            "Epoch 39/100\n",
            "50/50 [==============================] - 0s 5ms/step - loss: 1.0389 - accuracy: 0.7560 - val_loss: 0.8214 - val_accuracy: 0.6800\n",
            "Epoch 40/100\n",
            "50/50 [==============================] - 0s 3ms/step - loss: 1.7428 - accuracy: 0.7680 - val_loss: 2.0625 - val_accuracy: 0.6080\n",
            "Epoch 41/100\n",
            "50/50 [==============================] - 0s 2ms/step - loss: 1.0852 - accuracy: 0.7440 - val_loss: 0.8221 - val_accuracy: 0.7920\n",
            "Epoch 42/100\n",
            "50/50 [==============================] - 0s 3ms/step - loss: 1.7091 - accuracy: 0.6980 - val_loss: 4.8150 - val_accuracy: 0.5760\n",
            "Epoch 43/100\n",
            "50/50 [==============================] - 0s 3ms/step - loss: 1.5909 - accuracy: 0.7220 - val_loss: 0.9773 - val_accuracy: 0.6880\n",
            "Epoch 44/100\n",
            "50/50 [==============================] - 0s 3ms/step - loss: 2.8103 - accuracy: 0.7080 - val_loss: 1.3303 - val_accuracy: 0.7520\n",
            "Epoch 45/100\n",
            "50/50 [==============================] - 0s 3ms/step - loss: 1.4276 - accuracy: 0.7480 - val_loss: 1.9942 - val_accuracy: 0.5600\n",
            "Epoch 46/100\n",
            "50/50 [==============================] - 0s 3ms/step - loss: 2.6890 - accuracy: 0.7140 - val_loss: 1.0445 - val_accuracy: 0.7680\n",
            "Epoch 47/100\n",
            "50/50 [==============================] - 0s 3ms/step - loss: 2.3585 - accuracy: 0.7060 - val_loss: 2.2787 - val_accuracy: 0.6800\n",
            "Epoch 48/100\n",
            "50/50 [==============================] - 0s 2ms/step - loss: 3.8673 - accuracy: 0.6740 - val_loss: 1.9174 - val_accuracy: 0.6960\n",
            "Epoch 49/100\n",
            "50/50 [==============================] - 0s 2ms/step - loss: 1.8243 - accuracy: 0.7320 - val_loss: 1.3419 - val_accuracy: 0.7520\n",
            "Epoch 50/100\n",
            "50/50 [==============================] - 0s 2ms/step - loss: 0.8917 - accuracy: 0.7680 - val_loss: 0.6132 - val_accuracy: 0.8640\n",
            "Epoch 51/100\n",
            "50/50 [==============================] - 0s 2ms/step - loss: 1.0300 - accuracy: 0.7580 - val_loss: 0.8613 - val_accuracy: 0.7920\n",
            "Epoch 52/100\n",
            "50/50 [==============================] - 0s 3ms/step - loss: 2.4759 - accuracy: 0.7100 - val_loss: 0.7391 - val_accuracy: 0.7920\n",
            "Epoch 53/100\n",
            "50/50 [==============================] - 0s 3ms/step - loss: 1.5953 - accuracy: 0.7480 - val_loss: 1.9548 - val_accuracy: 0.7120\n",
            "Epoch 54/100\n",
            "50/50 [==============================] - 0s 3ms/step - loss: 1.3569 - accuracy: 0.7540 - val_loss: 1.7638 - val_accuracy: 0.7360\n",
            "Epoch 55/100\n",
            "50/50 [==============================] - 0s 3ms/step - loss: 0.9452 - accuracy: 0.7860 - val_loss: 0.5675 - val_accuracy: 0.7840\n",
            "Epoch 56/100\n",
            "50/50 [==============================] - 0s 2ms/step - loss: 1.4237 - accuracy: 0.7840 - val_loss: 4.4551 - val_accuracy: 0.5840\n",
            "Epoch 57/100\n",
            "50/50 [==============================] - 0s 3ms/step - loss: 3.6893 - accuracy: 0.6940 - val_loss: 0.9391 - val_accuracy: 0.8000\n",
            "Epoch 58/100\n",
            "50/50 [==============================] - 0s 3ms/step - loss: 0.9719 - accuracy: 0.7560 - val_loss: 0.8490 - val_accuracy: 0.7760\n",
            "Epoch 59/100\n",
            "50/50 [==============================] - 0s 3ms/step - loss: 1.7402 - accuracy: 0.7420 - val_loss: 2.3620 - val_accuracy: 0.7040\n",
            "Epoch 60/100\n",
            "50/50 [==============================] - 0s 4ms/step - loss: 1.2480 - accuracy: 0.7480 - val_loss: 1.0997 - val_accuracy: 0.6000\n",
            "Epoch 61/100\n",
            "50/50 [==============================] - 0s 3ms/step - loss: 1.3265 - accuracy: 0.7720 - val_loss: 2.3013 - val_accuracy: 0.6960\n",
            "Epoch 62/100\n",
            "50/50 [==============================] - 0s 3ms/step - loss: 0.8874 - accuracy: 0.7600 - val_loss: 1.0380 - val_accuracy: 0.7600\n",
            "Epoch 63/100\n",
            "50/50 [==============================] - 0s 3ms/step - loss: 0.9770 - accuracy: 0.7800 - val_loss: 0.7493 - val_accuracy: 0.7760\n",
            "Epoch 64/100\n",
            "50/50 [==============================] - 0s 2ms/step - loss: 1.8836 - accuracy: 0.7180 - val_loss: 3.2319 - val_accuracy: 0.6560\n",
            "Epoch 65/100\n",
            "50/50 [==============================] - 0s 3ms/step - loss: 2.4140 - accuracy: 0.7040 - val_loss: 1.2219 - val_accuracy: 0.7360\n",
            "Epoch 66/100\n",
            "50/50 [==============================] - 0s 3ms/step - loss: 2.3485 - accuracy: 0.7320 - val_loss: 2.7154 - val_accuracy: 0.6640\n",
            "Epoch 67/100\n",
            "50/50 [==============================] - 0s 3ms/step - loss: 1.0984 - accuracy: 0.7580 - val_loss: 1.3519 - val_accuracy: 0.7520\n",
            "Epoch 68/100\n",
            "50/50 [==============================] - 0s 2ms/step - loss: 1.5753 - accuracy: 0.7480 - val_loss: 1.4550 - val_accuracy: 0.6720\n",
            "Epoch 69/100\n",
            "50/50 [==============================] - 0s 3ms/step - loss: 0.6927 - accuracy: 0.8000 - val_loss: 0.5843 - val_accuracy: 0.8320\n",
            "Epoch 70/100\n",
            "50/50 [==============================] - 0s 2ms/step - loss: 0.8707 - accuracy: 0.7920 - val_loss: 0.5461 - val_accuracy: 0.8080\n",
            "Epoch 71/100\n",
            "50/50 [==============================] - 0s 2ms/step - loss: 0.7166 - accuracy: 0.7980 - val_loss: 0.6828 - val_accuracy: 0.6800\n",
            "Epoch 72/100\n",
            "50/50 [==============================] - 0s 3ms/step - loss: 0.9389 - accuracy: 0.7940 - val_loss: 0.6864 - val_accuracy: 0.8000\n",
            "Epoch 73/100\n",
            "50/50 [==============================] - 0s 3ms/step - loss: 1.0651 - accuracy: 0.7980 - val_loss: 1.3821 - val_accuracy: 0.6640\n",
            "Epoch 74/100\n",
            "50/50 [==============================] - 0s 3ms/step - loss: 0.8457 - accuracy: 0.8120 - val_loss: 0.5740 - val_accuracy: 0.8080\n",
            "Epoch 75/100\n",
            "50/50 [==============================] - 0s 3ms/step - loss: 0.7812 - accuracy: 0.7960 - val_loss: 1.0229 - val_accuracy: 0.7280\n",
            "Epoch 76/100\n",
            "50/50 [==============================] - 0s 3ms/step - loss: 1.3379 - accuracy: 0.7400 - val_loss: 0.6122 - val_accuracy: 0.8400\n",
            "Epoch 77/100\n",
            "50/50 [==============================] - 0s 3ms/step - loss: 1.3487 - accuracy: 0.7540 - val_loss: 0.5381 - val_accuracy: 0.8080\n",
            "Epoch 78/100\n",
            "50/50 [==============================] - 0s 3ms/step - loss: 0.9345 - accuracy: 0.7940 - val_loss: 0.8521 - val_accuracy: 0.7920\n",
            "Epoch 79/100\n",
            "50/50 [==============================] - 0s 3ms/step - loss: 1.1474 - accuracy: 0.7860 - val_loss: 0.8073 - val_accuracy: 0.7680\n",
            "Epoch 80/100\n",
            "50/50 [==============================] - 0s 3ms/step - loss: 1.5833 - accuracy: 0.7840 - val_loss: 1.3450 - val_accuracy: 0.6960\n",
            "Epoch 81/100\n",
            "50/50 [==============================] - 0s 3ms/step - loss: 0.6488 - accuracy: 0.8140 - val_loss: 0.5432 - val_accuracy: 0.7600\n",
            "Epoch 82/100\n",
            "50/50 [==============================] - 0s 3ms/step - loss: 1.4275 - accuracy: 0.7200 - val_loss: 1.0154 - val_accuracy: 0.7520\n",
            "Epoch 83/100\n",
            "50/50 [==============================] - 0s 2ms/step - loss: 0.9606 - accuracy: 0.7900 - val_loss: 0.7113 - val_accuracy: 0.8000\n",
            "Epoch 84/100\n",
            "50/50 [==============================] - 0s 3ms/step - loss: 0.7789 - accuracy: 0.8180 - val_loss: 0.6062 - val_accuracy: 0.7840\n",
            "Epoch 85/100\n",
            "50/50 [==============================] - 0s 3ms/step - loss: 0.7467 - accuracy: 0.8000 - val_loss: 0.5599 - val_accuracy: 0.8080\n",
            "Epoch 86/100\n",
            "50/50 [==============================] - 0s 3ms/step - loss: 0.7005 - accuracy: 0.8220 - val_loss: 1.6645 - val_accuracy: 0.7120\n",
            "Epoch 87/100\n",
            "50/50 [==============================] - 0s 3ms/step - loss: 1.6300 - accuracy: 0.7640 - val_loss: 0.9365 - val_accuracy: 0.7280\n",
            "Epoch 88/100\n",
            "50/50 [==============================] - 0s 3ms/step - loss: 0.5984 - accuracy: 0.8000 - val_loss: 0.7799 - val_accuracy: 0.8080\n",
            "Epoch 89/100\n",
            "50/50 [==============================] - 0s 3ms/step - loss: 0.6670 - accuracy: 0.8020 - val_loss: 1.3696 - val_accuracy: 0.6880\n",
            "Epoch 90/100\n",
            "50/50 [==============================] - 0s 2ms/step - loss: 0.6366 - accuracy: 0.8120 - val_loss: 1.5766 - val_accuracy: 0.7040\n",
            "Epoch 91/100\n",
            "50/50 [==============================] - 0s 3ms/step - loss: 1.1290 - accuracy: 0.7720 - val_loss: 2.0067 - val_accuracy: 0.6720\n",
            "Epoch 92/100\n",
            "50/50 [==============================] - 0s 4ms/step - loss: 0.9236 - accuracy: 0.7840 - val_loss: 0.7242 - val_accuracy: 0.7200\n",
            "Epoch 93/100\n",
            "50/50 [==============================] - 0s 4ms/step - loss: 0.7530 - accuracy: 0.7900 - val_loss: 0.7566 - val_accuracy: 0.7120\n",
            "Epoch 94/100\n",
            "50/50 [==============================] - 0s 4ms/step - loss: 0.8343 - accuracy: 0.7940 - val_loss: 1.0079 - val_accuracy: 0.6960\n",
            "Epoch 95/100\n",
            "50/50 [==============================] - 0s 4ms/step - loss: 0.8814 - accuracy: 0.7680 - val_loss: 1.0272 - val_accuracy: 0.7520\n",
            "Epoch 96/100\n",
            "50/50 [==============================] - 0s 4ms/step - loss: 0.9088 - accuracy: 0.7760 - val_loss: 2.0128 - val_accuracy: 0.6800\n",
            "Epoch 97/100\n",
            "50/50 [==============================] - 0s 4ms/step - loss: 1.8036 - accuracy: 0.7660 - val_loss: 0.7483 - val_accuracy: 0.6960\n",
            "Epoch 98/100\n",
            "50/50 [==============================] - 0s 3ms/step - loss: 1.1005 - accuracy: 0.7720 - val_loss: 3.7185 - val_accuracy: 0.6720\n",
            "Epoch 99/100\n",
            "50/50 [==============================] - 0s 5ms/step - loss: 1.7944 - accuracy: 0.7620 - val_loss: 0.7369 - val_accuracy: 0.6960\n",
            "Epoch 100/100\n",
            "50/50 [==============================] - 0s 4ms/step - loss: 0.9893 - accuracy: 0.7900 - val_loss: 0.4796 - val_accuracy: 0.7760\n",
            "14/14 [==============================] - 0s 2ms/step - loss: 0.7935 - accuracy: 0.7554\n",
            "Accuracy: 75.54%\n",
            "14/14 [==============================] - 0s 2ms/step\n"
          ]
        },
        {
          "output_type": "display_data",
          "data": {
            "text/plain": [
              "<Figure size 640x480 with 1 Axes>"
            ],
            "image/png": "[encoded data removed]"
          },
          "metadata": {}
        },
        {
          "output_type": "stream",
          "name": "stdout",
          "text": [
            "              precision    recall  f1-score   support\n",
            "\n",
            "          No       0.74      0.80      0.77       215\n",
            "         Yes       0.77      0.71      0.74       202\n",
            "\n",
            "    accuracy                           0.76       417\n",
            "   macro avg       0.76      0.75      0.75       417\n",
            "weighted avg       0.76      0.76      0.75       417\n",
            "\n"
          ]
        }
      ]
    }
  ]
}